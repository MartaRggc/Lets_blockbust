{
 "cells": [
  {
   "cell_type": "markdown",
   "id": "116f3400",
   "metadata": {},
   "source": [
    "# Preparación de las tablas según el ERD\n",
    "\n",
    "Por último, organizaremos un poco más las tablas según el ERD que hemos creado en MySQL:\n",
    "\n",
    "![Image Alt Text](../images/ERD.png)"
   ]
  },
  {
   "cell_type": "code",
   "execution_count": 1,
   "id": "783440d4",
   "metadata": {},
   "outputs": [],
   "source": [
    "# Librerías\n",
    "\n",
    "import numpy as np\n",
    "import pandas as pd\n",
    "import sys\n",
    "\n",
    "# Funciones del archivo fun.py\n",
    "\n",
    "sys.path.append('/home/marta/Desktop/IH/Lets_blockbust/SCC')\n",
    "from fun import firstglance"
   ]
  },
  {
   "cell_type": "code",
   "execution_count": 2,
   "id": "36b6e8ce",
   "metadata": {},
   "outputs": [],
   "source": [
    "# Importamos todas las tablas:\n",
    "\n",
    "actor = pd.read_csv('../data/actor_clean.csv')\n",
    "category = pd.read_csv('../data/category_clean.csv')\n",
    "film = pd.read_csv('../data/film_clean.csv')\n",
    "language = pd.read_csv('../data/language_clean.csv') \n",
    "actorfilm = pd.read_csv('../data/actorfilm_clean.csv')\n",
    "rental = pd.read_csv('../data/rental_clean.csv') \n",
    "inventory = pd.read_csv('../data/inventory_clean.csv')\n",
    "updates = pd.read_csv('../data/updates_clean.csv')\n",
    "staff = pd.read_csv('../data/staff_clean.csv')\n",
    "customer = pd.read_csv('../data/customers_clean.csv')"
   ]
  },
  {
   "cell_type": "markdown",
   "id": "3f920739",
   "metadata": {},
   "source": [
    "En el ERD se han cambiado algunas cosas de cara a mejorar las interconexiones entre tablas. Los aspectos principales que faltan por cambiar son los siguientes:\n",
    "\n",
    "+ Crear una tabla de conexión many-to-many entre category y film, por si una película pertenece a varios géneros\n",
    "+ Quitar la columna de language de la tabla film, y dejar sólo la de original_language como foreign key\n",
    "+ Poner la columna language en el inventario, por si hay una misma película en varios idiomas\n",
    "+ Quitar la columna film_id de la tabla rental, y dejar sólo el inventory_id ya que esto ya identifica la película\n",
    "+ Cambiar algunos nombres de columnas (los ids) para que coincidan con los del ERD"
   ]
  },
  {
   "cell_type": "code",
   "execution_count": 3,
   "id": "aef438ce",
   "metadata": {},
   "outputs": [
    {
     "data": {
      "text/html": [
       "<div>\n",
       "<style scoped>\n",
       "    .dataframe tbody tr th:only-of-type {\n",
       "        vertical-align: middle;\n",
       "    }\n",
       "\n",
       "    .dataframe tbody tr th {\n",
       "        vertical-align: top;\n",
       "    }\n",
       "\n",
       "    .dataframe thead th {\n",
       "        text-align: right;\n",
       "    }\n",
       "</style>\n",
       "<table border=\"1\" class=\"dataframe\">\n",
       "  <thead>\n",
       "    <tr style=\"text-align: right;\">\n",
       "      <th></th>\n",
       "      <th>film_id</th>\n",
       "      <th>category_id</th>\n",
       "    </tr>\n",
       "  </thead>\n",
       "  <tbody>\n",
       "    <tr>\n",
       "      <th>0</th>\n",
       "      <td>1</td>\n",
       "      <td>6</td>\n",
       "    </tr>\n",
       "    <tr>\n",
       "      <th>1</th>\n",
       "      <td>2</td>\n",
       "      <td>11</td>\n",
       "    </tr>\n",
       "    <tr>\n",
       "      <th>2</th>\n",
       "      <td>3</td>\n",
       "      <td>6</td>\n",
       "    </tr>\n",
       "    <tr>\n",
       "      <th>3</th>\n",
       "      <td>4</td>\n",
       "      <td>-1</td>\n",
       "    </tr>\n",
       "    <tr>\n",
       "      <th>4</th>\n",
       "      <td>5</td>\n",
       "      <td>-1</td>\n",
       "    </tr>\n",
       "    <tr>\n",
       "      <th>...</th>\n",
       "      <td>...</td>\n",
       "      <td>...</td>\n",
       "    </tr>\n",
       "    <tr>\n",
       "      <th>995</th>\n",
       "      <td>996</td>\n",
       "      <td>6</td>\n",
       "    </tr>\n",
       "    <tr>\n",
       "      <th>996</th>\n",
       "      <td>997</td>\n",
       "      <td>12</td>\n",
       "    </tr>\n",
       "    <tr>\n",
       "      <th>997</th>\n",
       "      <td>998</td>\n",
       "      <td>11</td>\n",
       "    </tr>\n",
       "    <tr>\n",
       "      <th>998</th>\n",
       "      <td>999</td>\n",
       "      <td>-1</td>\n",
       "    </tr>\n",
       "    <tr>\n",
       "      <th>999</th>\n",
       "      <td>1000</td>\n",
       "      <td>-1</td>\n",
       "    </tr>\n",
       "  </tbody>\n",
       "</table>\n",
       "<p>1000 rows × 2 columns</p>\n",
       "</div>"
      ],
      "text/plain": [
       "     film_id  category_id\n",
       "0          1            6\n",
       "1          2           11\n",
       "2          3            6\n",
       "3          4           -1\n",
       "4          5           -1\n",
       "..       ...          ...\n",
       "995      996            6\n",
       "996      997           12\n",
       "997      998           11\n",
       "998      999           -1\n",
       "999     1000           -1\n",
       "\n",
       "[1000 rows x 2 columns]"
      ]
     },
     "execution_count": 3,
     "metadata": {},
     "output_type": "execute_result"
    }
   ],
   "source": [
    "# Vamos a ello. Empecemos por crear la tabla de conexión entre category y film.\n",
    "# La llenamos con los matches de las películas que conocemos, que ya están especificados en la tabla film:\n",
    "\n",
    "catfilm = pd.DataFrame(data = {'film_id':film.film_id,'category_id':film.category_id}) # La creamos \n",
    "\n",
    "catfilm"
   ]
  },
  {
   "cell_type": "code",
   "execution_count": 4,
   "id": "2750ed00",
   "metadata": {},
   "outputs": [],
   "source": [
    "# Ahora ya podemos eliminar la columna category_id de film, ya que ambas tablas se conectarán a través\n",
    "# de esta nueva tabla mixta.\n",
    "\n",
    "film.drop(columns = 'category_id', inplace = True)\n",
    "\n",
    "# Quitamos también la columna language, que pondremos en la tabla de inventory:\n",
    "\n",
    "film.drop(columns = 'language_id', inplace = True)\n",
    "inventory['language_id'] = 1 # De momento asumimos que todas las inventariadas estaban en inglés, según lo que\n",
    "# había en la tabla film"
   ]
  },
  {
   "cell_type": "code",
   "execution_count": 5,
   "id": "54e1c4d7",
   "metadata": {},
   "outputs": [],
   "source": [
    "# Quitamos ahora la columna film_id de rental y dejamos solo inventory_id como identificador:\n",
    "\n",
    "rental.drop(columns = 'film_id', inplace = True)"
   ]
  },
  {
   "cell_type": "code",
   "execution_count": 6,
   "id": "fc8a3ebd",
   "metadata": {},
   "outputs": [],
   "source": [
    "# Por último, cambiamos los nombres de los ids de cada tabla para identificarlos bien como primary keys:\n",
    "\n",
    "actor.columns = ['id','name']\n",
    "inventory.columns = ['id','film_id','language_id']\n",
    "rental.columns = ['id','customer_id','inventory_id','staff_id','rental_time','rental_date','return_date']\n",
    "film_names = list(film.columns)\n",
    "film_names[0] = 'id'\n",
    "film.columns = film_names\n",
    "cust_names = list(customer.columns)\n",
    "cust_names[0] = 'id'\n",
    "customer.columns = cust_names\n",
    "staff_names = list(staff.columns)\n",
    "staff_names[0] = 'id'\n",
    "staff.columns = staff_names"
   ]
  },
  {
   "cell_type": "code",
   "execution_count": 7,
   "id": "e6e40e97",
   "metadata": {},
   "outputs": [],
   "source": [
    "# Guardamos todo en csv para migrar a SQL:\n",
    "\n",
    "actor.to_csv('../data/actor_ready.csv', index = False)\n",
    "category.to_csv('../data/category_ready.csv', index = False)\n",
    "film.to_csv('../data/film_ready.csv', index = False)\n",
    "language.to_csv('../data/language_ready.csv', index = False) \n",
    "actorfilm.to_csv('../data/actorfilm_ready.csv', index = False)\n",
    "rental.to_csv('../data/rental_ready.csv', index = False) \n",
    "inventory.to_csv('../data/inventory_ready.csv', index = False)\n",
    "updates.to_csv('../data/updates_ready.csv', index = False)\n",
    "staff.to_csv('../data/staff_ready.csv', index = False)\n",
    "customer.to_csv('../data/customer_ready.csv', index = False)"
   ]
  }
 ],
 "metadata": {
  "kernelspec": {
   "display_name": "Python 3 (ipykernel)",
   "language": "python",
   "name": "python3"
  },
  "language_info": {
   "codemirror_mode": {
    "name": "ipython",
    "version": 3
   },
   "file_extension": ".py",
   "mimetype": "text/x-python",
   "name": "python",
   "nbconvert_exporter": "python",
   "pygments_lexer": "ipython3",
   "version": "3.10.9"
  }
 },
 "nbformat": 4,
 "nbformat_minor": 5
}
