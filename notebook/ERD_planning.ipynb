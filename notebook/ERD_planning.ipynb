{
 "cells": [
  {
   "cell_type": "markdown",
   "id": "116f3400",
   "metadata": {},
   "source": [
    "# Preparación de las tablas según el ERD\n",
    "\n",
    "Por último, organizaremos un poco las tablas de cara al ERD que hemos creado en MySQL:\n",
    "\n",
    "![Image Alt Text](../images/ERD.png)"
   ]
  },
  {
   "cell_type": "code",
   "execution_count": 2,
   "id": "783440d4",
   "metadata": {},
   "outputs": [],
   "source": [
    "# Librerías\n",
    "\n",
    "import numpy as np\n",
    "import pandas as pd\n",
    "import sys\n",
    "\n",
    "# Funciones del archivo fun.py\n",
    "\n",
    "sys.path.append('/home/marta/Desktop/IH/Lets_blockbust/SCC')\n",
    "from fun import firstglance"
   ]
  },
  {
   "cell_type": "code",
   "execution_count": 7,
   "id": "36b6e8ce",
   "metadata": {},
   "outputs": [],
   "source": [
    "# Importamos todas las tablas:\n",
    "\n",
    "actor = pd.read_csv('../data/actor_clean.csv')\n",
    "category = pd.read_csv('../data/category_clean.csv')\n",
    "film = pd.read_csv('../data/film_clean.csv')\n",
    "language = pd.read_csv('../data/language_clean.csv') \n",
    "actorfilm = pd.read_csv('../data/actorfilm_clean.csv') # Esta conectará actores y películas, le cambiamos el nombre\n",
    "rental = pd.read_csv('../data/rental_clean.csv') \n",
    "inventory = pd.read_csv('../data/inventory_clean.csv')\n",
    "updates = pd.read_csv('../data/updates_clean.csv')\n",
    "staff = pd.read_csv('../data/staff_clean.csv')\n",
    "customers = pd.read_csv('../data/customers_clean.csv')"
   ]
  },
  {
   "cell_type": "markdown",
   "id": "340a74ca",
   "metadata": {},
   "source": [
    "En el ERD se han cambiado algunas cosas de cara a mejorar las interconexiones entre tablas. Los aspectos principales que faltan por cambiar son los siguientes:\n",
    "\n",
    "+ Quitar la columna de category de la tabla film, y dejar un id\n",
    "+ Crear una tabla de conexión many-to-many entre category y film, por si una película pertenece a varios géneros\n",
    "+ Quitar la columna de language de la tabla film, y dejar sólo la de original_language como foreign key\n",
    "+ Poner la columna language en el inventario, por si hay una misma película en varios idiomas\n",
    "+ Quitar la columna film_id de la tabla rental, y dejar sólo el inventory_id ya que esto ya identifica la película\n",
    "+ Cambiar algunos nombres de columnas (los ids) para que coincidan con los del ERD"
   ]
  },
  {
   "cell_type": "code",
   "execution_count": null,
   "id": "649f2ec2",
   "metadata": {},
   "outputs": [],
   "source": [
    "# Vamos a ello."
   ]
  }
 ],
 "metadata": {
  "kernelspec": {
   "display_name": "Python 3 (ipykernel)",
   "language": "python",
   "name": "python3"
  },
  "language_info": {
   "codemirror_mode": {
    "name": "ipython",
    "version": 3
   },
   "file_extension": ".py",
   "mimetype": "text/x-python",
   "name": "python",
   "nbconvert_exporter": "python",
   "pygments_lexer": "ipython3",
   "version": "3.10.9"
  }
 },
 "nbformat": 4,
 "nbformat_minor": 5
}
