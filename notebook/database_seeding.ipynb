{
 "cells": [
  {
   "cell_type": "markdown",
   "id": "3640f602",
   "metadata": {},
   "source": [
    "# Query para rellenar la base de datos\n",
    "\n",
    "En este último notebook crearemos la query para rellenar la base de datos vacía creada según el ERD mostrado en el anterior, desde los csv procesados. Primero cargamos los archivos:"
   ]
  },
  {
   "cell_type": "code",
   "execution_count": 1,
   "id": "8120276a",
   "metadata": {},
   "outputs": [],
   "source": [
    "# Librerías\n",
    "\n",
    "import numpy as np\n",
    "import pandas as pd\n",
    "import sys\n",
    "import warnings\n",
    "\n",
    "warnings.filterwarnings('ignore')"
   ]
  },
  {
   "cell_type": "code",
   "execution_count": 2,
   "id": "e1d2961e",
   "metadata": {},
   "outputs": [],
   "source": [
    "actor = pd.read_csv('../data/actor_ready.csv')\n",
    "category = pd.read_csv('../data/category_ready.csv')\n",
    "film = pd.read_csv('../data/film_ready.csv')\n",
    "language = pd.read_csv('../data/language_ready.csv') \n",
    "actorfilm = pd.read_csv('../data/actorfilm_ready.csv')\n",
    "rental = pd.read_csv('../data/rental_ready.csv') \n",
    "inventory = pd.read_csv('../data/inventory_ready.csv')\n",
    "updates = pd.read_csv('../data/updates_ready.csv')\n",
    "staff = pd.read_csv('../data/staff_ready.csv')\n",
    "customer = pd.read_csv('../data/customer_ready.csv')\n",
    "catfilm = pd.read_csv('../data/catfilm_ready.csv')"
   ]
  },
  {
   "cell_type": "code",
   "execution_count": 3,
   "id": "425704cc",
   "metadata": {},
   "outputs": [],
   "source": [
    "# Creamos las subqueries de insert a cada tabla para cada fila, a través de una función lambda:\n",
    "\n",
    "insert = []\n",
    "\n",
    "insert.append(actor.apply(lambda row: f\"INSERT INTO actor (name) \\\n",
    "VALUES ('{row['name']}');\", axis=1))\n",
    "\n",
    "insert.append(category.apply(lambda row: f\"INSERT INTO category (cat) \\\n",
    "VALUES ('{row['cat']}');\", axis=1))\n",
    "\n",
    "insert.append(language.apply(lambda row: f\"INSERT INTO language (lan) \\\n",
    "VALUES ('{row['lan']}');\", axis=1))\n",
    "\n",
    "insert.append(film.apply(lambda row: f\"INSERT INTO film (title, description, \\\n",
    "release_year, rental_duration, rental_rate, length, \\\n",
    "replacement_cost, rating, deleted_scenes, behind_scenes, trailer, commentaries, original_language_id) \\\n",
    "VALUES ('{row['title']}',\\\n",
    "        '{row['description']}',\\\n",
    "        {row['release_year']},\\\n",
    "        {row['rental_duration']},\\\n",
    "        {row['rental_rate']},\\\n",
    "        {row['length']},\\\n",
    "        {row['replacement_cost']},\\\n",
    "        '{row['rating']}',\\\n",
    "        {row['deleted_scenes']},\\\n",
    "        {row['behind_scenes']},\\\n",
    "        {row['trailer']},\\\n",
    "        {row['commentaries']},\\\n",
    "        {row['original_language_id']}\\\n",
    "        );\", axis=1))\n",
    "\n",
    "insert.append(actorfilm.apply(lambda row: f\"INSERT INTO actorfilm (film_id, actor_id) \\\n",
    "VALUES ({row['film_id']},{row['actor_id']});\", axis=1))\n",
    "\n",
    "insert.append(catfilm.apply(lambda row: f\"INSERT INTO catfilm (film_id, category_id) \\\n",
    "VALUES ({row['film_id']},{row['category_id']});\", axis=1))\n",
    "\n",
    "insert.append(inventory.apply(lambda row: f\"INSERT INTO inventory (film_id, language_id) \\\n",
    "VALUES ({row['film_id']},{row['language_id']});\", axis=1))\n",
    "\n",
    "insert.append(updates.apply(lambda row: f\"INSERT INTO updates (tab, last_update) \\\n",
    "VALUES ('{row['table']}','{row['last_update']}');\", axis=1))\n",
    "\n",
    "insert.append(staff.apply(lambda row: f\"INSERT INTO staff (name, phone, mail) \\\n",
    "VALUES ('{row['name']}','{row['phone']}','{row['mail']}');\", axis=1))\n",
    "\n",
    "insert.append(customer.apply(lambda row: f\"INSERT INTO customer (name, sex, age, phone, mail, postal) \\\n",
    "VALUES ('{row['name']}','{row['sex']}',{row['age']},'{row['phone']}','{row['mail']}',{row['postal']});\", axis=1))\n",
    "\n",
    "insert.append(rental.apply(lambda row: f\"INSERT INTO rental (rental_time, rental_date, return_date, \\\n",
    "inventory_id, customer_id, staff_id) \\\n",
    "VALUES ({row['rental_time']},'{row['rental_date']}','{row['return_date']}',{row['inventory_id']},\\\n",
    "{row['customer_id']},{row['staff_id']});\", axis=1))\n"
   ]
  },
  {
   "cell_type": "code",
   "execution_count": 4,
   "id": "16a5b83a",
   "metadata": {},
   "outputs": [
    {
     "data": {
      "text/plain": [
       "0    INSERT INTO actor (name) VALUES ('PENELOPE_GUI...\n",
       "1    INSERT INTO actor (name) VALUES ('NICK_WAHLBER...\n",
       "2        INSERT INTO actor (name) VALUES ('ED_CHASE');\n",
       "3    INSERT INTO actor (name) VALUES ('JENNIFER_DAV...\n",
       "4    INSERT INTO actor (name) VALUES ('JOHNNY_LOLLO...\n",
       "                           ...                        \n",
       "7    INSERT INTO updates (tab, last_update) VALUES ...\n",
       "8    INSERT INTO updates (tab, last_update) VALUES ...\n",
       "0    INSERT INTO staff (name, phone, mail) VALUES (...\n",
       "0    INSERT INTO customer (name, sex, age, phone, m...\n",
       "0    INSERT INTO rental (rental_time, rental_date, ...\n",
       "Length: 4235, dtype: object"
      ]
     },
     "execution_count": 4,
     "metadata": {},
     "output_type": "execute_result"
    }
   ],
   "source": [
    "# Unimos las subqueries en una macroserie:\n",
    "\n",
    "all_inserts = insert[0]\n",
    "\n",
    "for i in insert[1:]:\n",
    "    all_inserts = all_inserts.append(i)\n",
    "    \n",
    "all_inserts"
   ]
  },
  {
   "cell_type": "code",
   "execution_count": 5,
   "id": "5e4c95ad",
   "metadata": {},
   "outputs": [],
   "source": [
    "# Y lo escribimos directamente en un archivo ejecutable desde MySQL, uniendo cada fila con la siguiente \n",
    "# a través de un salto de página \\n:\n",
    "\n",
    "with open('../queries/seeding.sql', 'w') as file:\n",
    "    file.write('\\n'.join(all_inserts))"
   ]
  }
 ],
 "metadata": {
  "kernelspec": {
   "display_name": "Python 3 (ipykernel)",
   "language": "python",
   "name": "python3"
  },
  "language_info": {
   "codemirror_mode": {
    "name": "ipython",
    "version": 3
   },
   "file_extension": ".py",
   "mimetype": "text/x-python",
   "name": "python",
   "nbconvert_exporter": "python",
   "pygments_lexer": "ipython3",
   "version": "3.10.9"
  }
 },
 "nbformat": 4,
 "nbformat_minor": 5
}
