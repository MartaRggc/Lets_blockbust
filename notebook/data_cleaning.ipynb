{
 "cells": [
  {
   "cell_type": "markdown",
   "id": "31f257ed",
   "metadata": {},
   "source": [
    "# Start"
   ]
  },
  {
   "cell_type": "code",
   "execution_count": 38,
   "id": "0137c4e0",
   "metadata": {},
   "outputs": [],
   "source": [
    "# Librerías\n",
    "\n",
    "import numpy as np\n",
    "import pandas as pd\n",
    "import sys\n",
    "\n",
    "\n",
    "# Funciones del archivo fun.py\n",
    "\n",
    "sys.path.append('../SCC')\n",
    "from fun import * "
   ]
  },
  {
   "cell_type": "code",
   "execution_count": 39,
   "id": "cc2aeca9",
   "metadata": {},
   "outputs": [],
   "source": [
    "# Importamos los datos de todas las tablas disponibles\n",
    "\n",
    "actor = pd.read_csv('../data/actor.csv')\n",
    "category = pd.read_csv('../data/category.csv')\n",
    "film = pd.read_csv('../data/film.csv')\n",
    "language = pd.read_csv('../data/language.csv')\n",
    "actorfilm = pd.read_csv('../data/old_HDD.csv') # Esta conectará actores y películas, le cambiamos el nombre\n",
    "rental = pd.read_csv('../data/rental.csv')"
   ]
  },
  {
   "cell_type": "code",
   "execution_count": 40,
   "id": "72fe9bab",
   "metadata": {},
   "outputs": [
    {
     "ename": "NameError",
     "evalue": "name 'firstglance' is not defined",
     "output_type": "error",
     "traceback": [
      "\u001b[0;31m---------------------------------------------------------------------------\u001b[0m",
      "\u001b[0;31mNameError\u001b[0m                                 Traceback (most recent call last)",
      "Cell \u001b[0;32mIn[40], line 5\u001b[0m\n\u001b[1;32m      1\u001b[0m \u001b[38;5;66;03m# Vamos a echar un ojo a cada tabla, con sus nulos, la información general y su tamaño. \u001b[39;00m\n\u001b[1;32m      2\u001b[0m \u001b[38;5;66;03m# Para ello diseñamos una función llamada firstglance(x) \u001b[39;00m\n\u001b[1;32m      3\u001b[0m \u001b[38;5;66;03m# que guardaremos en fun.py dentro de SCC y usaremos a partir de ahora\u001b[39;00m\n\u001b[0;32m----> 5\u001b[0m \u001b[43mfirstglance\u001b[49m(actor)\n",
      "\u001b[0;31mNameError\u001b[0m: name 'firstglance' is not defined"
     ]
    }
   ],
   "source": [
    "# Vamos a echar un ojo a cada tabla, con sus nulos, la información general y su tamaño. \n",
    "# Para ello diseñamos una función llamada firstglance(x) \n",
    "# que guardaremos en fun.py dentro de SCC y usaremos a partir de ahora\n",
    "\n",
    "firstglance(actor)"
   ]
  },
  {
   "cell_type": "code",
   "execution_count": null,
   "id": "f7345ee1",
   "metadata": {},
   "outputs": [],
   "source": []
  }
 ],
 "metadata": {
  "kernelspec": {
   "display_name": "Python 3 (ipykernel)",
   "language": "python",
   "name": "python3"
  },
  "language_info": {
   "codemirror_mode": {
    "name": "ipython",
    "version": 3
   },
   "file_extension": ".py",
   "mimetype": "text/x-python",
   "name": "python",
   "nbconvert_exporter": "python",
   "pygments_lexer": "ipython3",
   "version": "3.10.9"
  }
 },
 "nbformat": 4,
 "nbformat_minor": 5
}
